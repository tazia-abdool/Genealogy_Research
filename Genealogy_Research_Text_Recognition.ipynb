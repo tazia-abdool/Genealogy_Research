{
 "cells": [
  {
   "cell_type": "code",
   "execution_count": 1,
   "id": "82d49c28",
   "metadata": {},
   "outputs": [],
   "source": [
    "#Genealogy Research - 12/31/2021 - Text Recognition\n",
    "\n",
    "#this code only works for jpg images. I need a way to handle pdf inputs as well."
   ]
  },
  {
   "cell_type": "code",
   "execution_count": 1,
   "id": "e3466c4e",
   "metadata": {},
   "outputs": [],
   "source": [
    "import requests\n",
    "import os\n",
    "import time\n",
    "import numpy as np\n",
    "from PIL import Image\n",
    "import pytesseract"
   ]
  },
  {
   "cell_type": "code",
   "execution_count": 2,
   "id": "0ffb7636",
   "metadata": {
    "scrolled": true
   },
   "outputs": [],
   "source": [
    "pytesseract.pytesseract.tesseract_cmd = r'C:\\Program Files\\Tesseract-OCR\\tesseract.exe'"
   ]
  },
  {
   "cell_type": "code",
   "execution_count": 16,
   "id": "fcc3d52f",
   "metadata": {},
   "outputs": [],
   "source": [
    "filename = r'C:\\Users\\Tazia\\Land_Ownership_Docs\\Chandoo Meah_2.jpg'"
   ]
  },
  {
   "cell_type": "code",
   "execution_count": 17,
   "id": "5124fbb9",
   "metadata": {},
   "outputs": [],
   "source": [
    "img1 = np.array(Image.open(filename))\n"
   ]
  },
  {
   "cell_type": "code",
   "execution_count": 18,
   "id": "d8ad503b",
   "metadata": {
    "scrolled": true
   },
   "outputs": [],
   "source": [
    "text = pytesseract.image_to_string(img1)"
   ]
  },
  {
   "cell_type": "code",
   "execution_count": 19,
   "id": "e0a032db",
   "metadata": {},
   "outputs": [
    {
     "name": "stdout",
     "output_type": "stream",
     "text": [
      " \n",
      "  \n",
      "  \n",
      " \n",
      "  \n",
      "  \n",
      "  \n",
      "\n",
      "Cadastral Sheet Sine\n",
      "\n",
      "Ward of £d/ras\n",
      "County of SH Dotrick =.\n",
      "\n",
      "age VEL, | 6ugfacce 47 72.4.\n",
      "\n",
      "is the Plan referred te oe 3\n",
      "\n",
      "» attached Memorandum of Ong, BKAS3 189\n",
      "fer made by Garih Hisahar\n",
      "vi of Himself the said\n",
      "‘Bisshar and Sharoom Garib.\n",
      "\n",
      "Fol. WS\n",
      "Fo!\n",
      "\n",
      " \n",
      "\n",
      "GN\n",
      "\n",
      "   \n",
      "\n",
      "O Bon on OOo\n",
      "Meoh\n",
      "\n",
      "   \n",
      "    \n",
      "  \n",
      "   \n",
      "\n",
      "AGE Subd ek. (249 Bt 198\n",
      "\n",
      "SCALE /:Z2500\n",
      "\n",
      "Distances are in Lipks\n",
      "\n",
      "ss bearings G6 minutes\n",
      "\n",
      "of a diagram of bur ceres trae road! ane! Hhirly ine perches aiginally\n",
      "Pooniah » shewing a portion\n",
      "‘ Bra perchas\n",
      "\n",
      "containing Avo ocres One rood ond tirly nina Porat, being the remainder\n",
      "Qve previous transfer of fee portion of the land.\n",
      "\n",
      "having been runin conformity with Rule 76 under Sec. 7 (4) of Cap. 27. No. 2.and duly certified\n",
      "\n",
      "   \n",
      " \n",
      " \n",
      "\n",
      "   \n",
      "\n",
      "SURVEYS VAULT RECORDS\n",
      "\n",
      "ee as a eee. eh\n",
      "\n",
      " \n",
      "\n"
     ]
    }
   ],
   "source": [
    "print(text)"
   ]
  },
  {
   "cell_type": "code",
   "execution_count": null,
   "id": "db6aa5c8",
   "metadata": {},
   "outputs": [],
   "source": []
  }
 ],
 "metadata": {
  "kernelspec": {
   "display_name": "Python 3",
   "language": "python",
   "name": "python3"
  },
  "language_info": {
   "codemirror_mode": {
    "name": "ipython",
    "version": 3
   },
   "file_extension": ".py",
   "mimetype": "text/x-python",
   "name": "python",
   "nbconvert_exporter": "python",
   "pygments_lexer": "ipython3",
   "version": "3.8.8"
  }
 },
 "nbformat": 4,
 "nbformat_minor": 5
}
